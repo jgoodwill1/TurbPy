{
 "cells": [
  {
   "cell_type": "code",
   "execution_count": 67,
   "metadata": {},
   "outputs": [],
   "source": [
    "from vpic_reader import *\n",
    "from TurbPy.vpic_info import *\n",
    "import matplotlib.pyplot as plt"
   ]
  },
  {
   "cell_type": "code",
   "execution_count": 2,
   "metadata": {},
   "outputs": [],
   "source": [
    "dirs = '/pscratch/sd/g/goodwill/KH_subash/'"
   ]
  },
  {
   "cell_type": "code",
   "execution_count": 3,
   "metadata": {},
   "outputs": [],
   "source": [
    "rc=vpic_read(dirs)"
   ]
  },
  {
   "cell_type": "code",
   "execution_count": 4,
   "metadata": {},
   "outputs": [],
   "source": [
    "rc.vars2load('all')"
   ]
  },
  {
   "cell_type": "code",
   "execution_count": 5,
   "metadata": {},
   "outputs": [],
   "source": [
    "rc.loadslice(0)"
   ]
  },
  {
   "cell_type": "code",
   "execution_count": 6,
   "metadata": {},
   "outputs": [
    {
     "data": {
      "text/plain": [
       "array([-0.00523171], dtype=float32)"
      ]
     },
     "execution_count": 6,
     "metadata": {},
     "output_type": "execute_result"
    }
   ],
   "source": [
    "rc.jxe[0,0]"
   ]
  },
  {
   "cell_type": "code",
   "execution_count": 71,
   "metadata": {},
   "outputs": [],
   "source": [
    "j_dot_E_e=np.zeros(101)\n",
    "j_dot_E_i=np.zeros(101)\n",
    "j_dot_E=np.zeros(101)\n",
    "time_all = np.zeros(101)\n",
    "for i in range(101):\n",
    "    rc.loadslice(i)\n",
    "    time_all[i]=rc.twci\n",
    "    j_dot_E_e[i]=np.mean(rc.jxe*rc.ex + rc.jye*rc.ey + rc.jze*rc.ez)\n",
    "    j_dot_E_i[i]=np.mean(rc.jxi*rc.ex + rc.jyi*rc.ey + rc.jzi*rc.ez)\n",
    "    j_dot_E[i]= j_dot_E_e[i] + j_dot_E_i[i]"
   ]
  },
  {
   "cell_type": "code",
   "execution_count": 8,
   "metadata": {},
   "outputs": [],
   "source": [
    "def load_vars(dirs, time_step, species = 'electron'):\n",
    "    hydro_file = h5py.File(dirs+\"hydro_hdf5/T.\"+str(time_step)+\"/hydro_\" + species + \"_\"+str(time_step)+\".h5\", 'r')\n",
    "    field_file = h5py.File(dirs+\"field_hdf5/T.\"+str(time_step)+\"/fields_\" + str(time_step)+\".h5\", 'r')\n",
    "    \n",
    "    jvec={}\n",
    "    var_dict = {}\n",
    "    vars = ['cbx', 'cby', 'cbz', 'ex', 'ey', 'ez']\n",
    "    group=field_file['Timestep_'+str(time_step)]\n",
    "\n",
    "    for i in vars:\n",
    "        dset = group[i]\n",
    "        jvec[i+str(time_step)] = np.zeros(dset.shape, dtype=dset.dtype)\n",
    "        dset.read_direct(jvec[i+str(time_step)])\n",
    "        var_dict[i] = np.array(dset[:,:,:])\n",
    "\n",
    "    jvec={}\n",
    "    vars = ['jx', 'jy', 'jz', 'ke', 'px', 'py', 'pz', \n",
    "            'rho', 'txx', 'txy', 'tyy', 'tyz', 'tzx', 'tzz']\n",
    "    group=hydro_file['Timestep_'+str(time_step)]\n",
    "\n",
    "    for i in vars:\n",
    "        dset = group[i]\n",
    "        jvec[i+str(time_step)] = np.zeros(dset.shape, dtype=dset.dtype)\n",
    "        dset.read_direct(jvec[i+str(time_step)])\n",
    "        var_dict[i] = np.array(dset[:,:,:])\n",
    "    return (var_dict)"
   ]
  },
  {
   "cell_type": "code",
   "execution_count": 62,
   "metadata": {},
   "outputs": [
    {
     "name": "stdout",
     "output_type": "stream",
     "text": [
      "[     0   3620   7240  10860  14480  18100  21720  25340  28960  32580\n",
      "  36200  39820  43440  47060  50680  54300  57920  61540  65160  68780\n",
      "  72400  76020  79640  83260  86880  90500  94120  97740 101360 104980\n",
      " 108600 112220 115840 119460 123080 126700 130320 133940 137560 141180\n",
      " 144800 148420 152040 155660 159280 162900 166520 170140 173760 177380\n",
      " 181000 184620 188240 191860 195480 199100 202720 206340 209960 213580\n",
      " 217200 220820 224440 228060 231680 235300 238920 242540 246160 249780\n",
      " 253400 257020 260640 264260 267880 271500 275120 278740 282360 285980\n",
      " 289600 293220 296840 300460 304080 307700 311320 314940 318560 322180\n",
      " 325800 329420 333040 336660 340280 343900 347520 351140 354760 358380\n",
      " 362000]\n"
     ]
    }
   ],
   "source": [
    "times = get_times(dirs)\n",
    "JE_av = np.zeros(len(times))\n",
    "print(times)\n",
    "for t in np.arange(0,len(times)):\n",
    "  dse = load_vars(dirs, times[t], species = 'electron')\n",
    "  dsi = load_vars(dirs, times[t], species = 'ion')\n",
    "\n",
    "  jx0 = dse['jx'] + dsi['jx']\n",
    "  jy0 = dse['jx'] + dsi['jx'] \n",
    "  jz0 = dse['jx'] + dsi['jx']\n",
    "\n",
    "  # ex = load_var('ex', dirs, times[t])\n",
    "  # ey = load_var('ey', dirs, times[t])\n",
    "  # ez = load_var('ez', dirs, times[t])\n",
    "\n",
    "  # jeE = (jxe * ex) + (jye * ey) + (jze * ez)\n",
    "  # jiE = (jxi * ex) + (jyi * ey) +dse (jzi * ez)\n",
    "  JEe  = (dse['jx'] * dse['ex']) + (dse['jy'] * dse['ey']) + (dse['jz'] * dse['ez'])\n",
    "  JEi  = (dsi['jx'] * dsi['ex']) + (dsi['jy'] * dsi['ey']) + (dsi['jz'] * dsi['ez'])\n",
    "  JE_av[t] = np.mean(JEe + JEi, dtype = np.float64)"
   ]
  },
  {
   "cell_type": "code",
   "execution_count": 14,
   "metadata": {},
   "outputs": [
    {
     "name": "stdout",
     "output_type": "stream",
     "text": [
      "-9.695402525267127e-08\n"
     ]
    },
    {
     "data": {
      "text/plain": [
       "-9.695399283415895e-08"
      ]
     },
     "execution_count": 14,
     "metadata": {},
     "output_type": "execute_result"
    }
   ],
   "source": [
    "print(JE_av[0])\n",
    "j_dot_E_e[0] + j_dot_E_i[0]"
   ]
  },
  {
   "cell_type": "code",
   "execution_count": 15,
   "metadata": {},
   "outputs": [
    {
     "name": "stdout",
     "output_type": "stream",
     "text": [
      "[[-8.54076716e-05  1.53795074e-04  2.27478857e-04 ...  6.30706563e-05\n",
      "  -7.32825429e-05 -3.83331462e-05]\n",
      " [ 7.88172983e-05  1.41860975e-04 -3.49270485e-05 ... -7.00733799e-05\n",
      "  -9.69561952e-05  5.71682613e-05]\n",
      " [-7.37621085e-05 -3.67214852e-05 -1.17756827e-04 ... -6.38027414e-05\n",
      "  -1.16323736e-05 -1.01822174e-04]\n",
      " ...\n",
      " [ 8.54791506e-05  6.59141806e-05  2.42810838e-05 ...  3.74706506e-05\n",
      "   5.61422894e-05 -1.31802590e-05]\n",
      " [ 4.56901216e-05  4.00751887e-05  6.84268962e-05 ...  4.53445027e-05\n",
      "   1.62070046e-05  1.96658730e-05]\n",
      " [-4.38887582e-05  1.51910326e-05  6.15417448e-05 ...  8.29167038e-05\n",
      "   5.77062092e-05  1.42725885e-05]]\n"
     ]
    }
   ],
   "source": [
    "print(((rc.jxe*rc.ex + rc.jye*rc.ey + rc.jze*rc.ez) + (rc.jxi*rc.ex + rc.jyi*rc.ey + rc.jzi*rc.ez))[:,:,0])"
   ]
  },
  {
   "cell_type": "code",
   "execution_count": 64,
   "metadata": {},
   "outputs": [
    {
     "name": "stdout",
     "output_type": "stream",
     "text": [
      "-9.695403684836082e-08\n"
     ]
    }
   ],
   "source": [
    "print(JE_av[0])"
   ]
  },
  {
   "cell_type": "code",
   "execution_count": 65,
   "metadata": {},
   "outputs": [
    {
     "name": "stdout",
     "output_type": "stream",
     "text": [
      "-9.695399283415895e-08\n"
     ]
    }
   ],
   "source": [
    "print(j_dot_E_e[0] + j_dot_E_i[0])"
   ]
  },
  {
   "cell_type": "code",
   "execution_count": 28,
   "metadata": {},
   "outputs": [
    {
     "name": "stdout",
     "output_type": "stream",
     "text": [
      "-9.403728367208548e-08\n"
     ]
    }
   ],
   "source": [
    "print(np.mean(JEe, dtype = np.float64))"
   ]
  },
  {
   "cell_type": "code",
   "execution_count": 58,
   "metadata": {},
   "outputs": [
    {
     "name": "stdout",
     "output_type": "stream",
     "text": [
      "[-6.517821e-05]\n"
     ]
    }
   ],
   "source": [
    "print(JEe[0,1])"
   ]
  },
  {
   "cell_type": "code",
   "execution_count": 60,
   "metadata": {},
   "outputs": [
    {
     "name": "stdout",
     "output_type": "stream",
     "text": [
      "[-6.517821e-05]\n"
     ]
    }
   ],
   "source": [
    "print((rc.jxe*rc.ex + rc.jye*rc.ey + rc.jze*rc.ez)[0,0])"
   ]
  },
  {
   "cell_type": "code",
   "execution_count": 52,
   "metadata": {},
   "outputs": [
    {
     "name": "stdout",
     "output_type": "stream",
     "text": [
      "0.0\n"
     ]
    }
   ],
   "source": [
    "print(np.mean(rc.jzi * rc.ez))"
   ]
  },
  {
   "cell_type": "code",
   "execution_count": 53,
   "metadata": {},
   "outputs": [
    {
     "name": "stdout",
     "output_type": "stream",
     "text": [
      "0.0\n"
     ]
    }
   ],
   "source": [
    "print(np.mean(dsi['jz'] * dsi['ez']))"
   ]
  },
  {
   "cell_type": "code",
   "execution_count": 79,
   "metadata": {},
   "outputs": [
    {
     "name": "stdout",
     "output_type": "stream",
     "text": [
      "0.05524272\n"
     ]
    }
   ],
   "source": [
    "print(rc.dtwpe)"
   ]
  },
  {
   "cell_type": "code",
   "execution_count": 78,
   "metadata": {},
   "outputs": [
    {
     "name": "stdout",
     "output_type": "stream",
     "text": [
      "199.9786464\n"
     ]
    }
   ],
   "source": [
    "dt=rc.dtwpe*3620\n",
    "print(dt)"
   ]
  },
  {
   "cell_type": "code",
   "execution_count": 75,
   "metadata": {},
   "outputs": [],
   "source": [
    "JE_cum = np.cumsum(-JE_av * dt)\n",
    "j_dot_E_cum = np.cumsum(-j_dot_E * dt)"
   ]
  },
  {
   "cell_type": "code",
   "execution_count": 77,
   "metadata": {},
   "outputs": [
    {
     "data": {
      "text/plain": [
       "[<matplotlib.lines.Line2D at 0x7fd426f65250>]"
      ]
     },
     "execution_count": 77,
     "metadata": {},
     "output_type": "execute_result"
    },
    {
     "data": {
      "image/png": "[encoded data removed]",
      "text/plain": [
       "<Figure size 640x480 with 1 Axes>"
      ]
     },
     "metadata": {},
     "output_type": "display_data"
    }
   ],
   "source": [
    "plt.plot(JE_cum)\n",
    "plt.plot(j_dot_E_cum)"
   ]
  }
 ],
 "metadata": {
  "kernelspec": {
   "display_name": "goodwill",
   "language": "python",
   "name": "python3"
  },
  "language_info": {
   "codemirror_mode": {
    "name": "ipython",
    "version": 3
   },
   "file_extension": ".py",
   "mimetype": "text/x-python",
   "name": "python",
   "nbconvert_exporter": "python",
   "pygments_lexer": "ipython3",
   "version": "3.9.19"
  }
 },
 "nbformat": 4,
 "nbformat_minor": 2
}
