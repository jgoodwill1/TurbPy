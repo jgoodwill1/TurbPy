{
 "cells": [
  {
   "cell_type": "code",
   "execution_count": 1,
   "metadata": {
    "tags": []
   },
   "outputs": [],
   "source": [
    "import TurbPy as tb\n",
    "from TurbPy.imports import *"
   ]
  },
  {
   "cell_type": "code",
   "execution_count": 2,
   "metadata": {
    "tags": []
   },
   "outputs": [],
   "source": [
    "# deck = 'KH_Lv1di/'\n",
    "# deck = 'KH_beta0.1/'\n",
    "deck = 'KH_200ppc_200wci/'\n",
    "\n",
    "dirs = '/pscratch/sd/g/goodwill/' + deck\n",
    "\n",
    "figs = '/pscratch/sd/g/goodwill/Fig/' + deck\n",
    "\n",
    "info = tb.get_vpic_info(dirs)\n",
    "times = tb.get_times(dirs)\n",
    "en_out = tb.read_energies(dirs)\n",
    "\n",
    "twci_out = np.linspace(0, times[-1] * info['dt*wci'], len(en_out['EM']))\n",
    "twce = np.linspace(0, times[-1] * info['dt*wce'], len(times))\n",
    "twci = np.linspace(0, times[-1] * info['dt*wci'], len(times))\n",
    "\n",
    "lx = info['Lx/di']\n",
    "ly = info['Ly/di']\n",
    "nx = int(info['nx'])\n",
    "ny = int(info['ny'])"
   ]
  },
  {
   "cell_type": "code",
   "execution_count": 3,
   "metadata": {
    "tags": []
   },
   "outputs": [
    {
     "name": "stdout",
     "output_type": "stream",
     "text": [
      "[0.00000000e+00 3.39328747e-02 6.78657494e-02 ... 3.80726854e+01\n",
      " 3.81066183e+01 3.81405512e+01]\n"
     ]
    }
   ],
   "source": [
    "print(twce/407)"
   ]
  },
  {
   "cell_type": "code",
   "execution_count": 10,
   "metadata": {
    "tags": []
   },
   "outputs": [
    {
     "name": "stdout",
     "output_type": "stream",
     "text": [
      "7974.381714851948\n"
     ]
    }
   ],
   "source": [
    "tnl = 1/(2 * np.pi/info['Lx/de'] * info['v_A* (based on nb)'])\n",
    "print(tnl)"
   ]
  },
  {
   "cell_type": "code",
   "execution_count": 11,
   "metadata": {
    "tags": []
   },
   "outputs": [
    {
     "name": "stdout",
     "output_type": "stream",
     "text": [
      "155.23204320000002\n"
     ]
    }
   ],
   "source": [
    "print(info['dt*wci'] * 562000)"
   ]
  },
  {
   "cell_type": "code",
   "execution_count": 12,
   "metadata": {
    "tags": []
   },
   "outputs": [
    {
     "name": "stdout",
     "output_type": "stream",
     "text": [
      "31046.40864\n"
     ]
    }
   ],
   "source": [
    "print(info['dt*wpe'] * 562000)"
   ]
  },
  {
   "cell_type": "code",
   "execution_count": 13,
   "metadata": {
    "tags": []
   },
   "outputs": [
    {
     "name": "stdout",
     "output_type": "stream",
     "text": [
      "3.893268437624121\n"
     ]
    }
   ],
   "source": [
    "print(info['dt*wpe'] * 562000/ tnl)"
   ]
  },
  {
   "cell_type": "code",
   "execution_count": null,
   "metadata": {},
   "outputs": [],
   "source": []
  }
 ],
 "metadata": {
  "kernelspec": {
   "display_name": "goodwill-jupyter",
   "language": "python",
   "name": "goodwill-jupyter"
  },
  "language_info": {
   "codemirror_mode": {
    "name": "ipython",
    "version": 3
   },
   "file_extension": ".py",
   "mimetype": "text/x-python",
   "name": "python",
   "nbconvert_exporter": "python",
   "pygments_lexer": "ipython3",
   "version": "3.9.19"
  }
 },
 "nbformat": 4,
 "nbformat_minor": 4
}
