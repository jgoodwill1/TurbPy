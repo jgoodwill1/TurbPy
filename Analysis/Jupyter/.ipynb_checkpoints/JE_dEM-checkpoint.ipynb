{
 "cells": [
  {
   "cell_type": "code",
   "execution_count": 1,
   "metadata": {
    "tags": []
   },
   "outputs": [],
   "source": [
    "import TurbPy as tb\n",
    "from TurbPy.imports import *"
   ]
  },
  {
   "cell_type": "code",
   "execution_count": 2,
   "metadata": {},
   "outputs": [],
   "source": [
    "# deck = 'KH_Lv1di/'\n",
    "# deck = 'KH/'\n",
    "# deck = 'KH_subash/'\n",
    "# deck = 'KH_new/'\n",
    "# deck = 'KH_800ppc/'\n",
    "# deck = 'KH_800ppc_500int/'\n",
    "# deck = 'KH_400ppc_500int/'\n",
    "# deck = 'KH_400ppc/'\n",
    "# deck = '/GEM_feb26/'\n",
    "# deck = 'turb2/'\n",
    "# deck = 'turb_vth0.01/'\n",
    "# deck = 'KH_beta0.1/'\n",
    "# deck = 'KH_400ppc_200wci2/'\n",
    "deck = 'KH_200ppc_200wci/'\n",
    "\n",
    "dirs = '/pscratch/sd/g/goodwill/' + deck\n",
    "\n",
    "figs = '/pscratch/sd/g/goodwill/Fig/' + deck\n",
    "\n",
    "info = tb.get_vpic_info(dirs)\n",
    "times = tb.get_times(dirs)\n",
    "en_out = tb.read_energies(dirs)\n",
    "\n",
    "twci_out = np.linspace(0, times[-1] * info['dt*wci'], len(en_out['EM']))\n",
    "twce = np.linspace(0, times[-1] * info['dt*wce'], len(times))\n",
    "twpe = np.linspace(0, times[-1] * info['dt*wpe'], len(times))\n",
    "twci = np.linspace(0, times[-1] * info['dt*wci'], len(times))\n",
    "\n",
    "lx = info['Lx/di']\n",
    "ly = info['Ly/di']\n",
    "nx = int(info['nx'])\n",
    "ny = int(info['ny'])"
   ]
  },
  {
   "cell_type": "code",
   "execution_count": 3,
   "metadata": {},
   "outputs": [
    {
     "name": "stdout",
     "output_type": "stream",
     "text": [
      "155.23204320000002\n"
     ]
    }
   ],
   "source": [
    "print(info['dt*wci'] * 562000)"
   ]
  },
  {
   "cell_type": "code",
   "execution_count": 4,
   "metadata": {},
   "outputs": [],
   "source": [
    "dt = info['dt*wpe'] * info['fields_interval']"
   ]
  },
  {
   "cell_type": "code",
   "execution_count": 5,
   "metadata": {},
   "outputs": [],
   "source": [
    "from TurbPy.vpic_info import *\n",
    "from TurbPy.load_vars import *\n",
    "import numpy as np\n",
    "import pandas as pd\n",
    "\n",
    "def JE_calc(dirs, filt = True, save = True):\n",
    "  vpic_info = get_vpic_info(dirs)\n",
    "  times = get_times(dirs)\n",
    "\n",
    "  dx = vpic_info['dx/de']\n",
    "  \n",
    "  \n",
    "  ds = pd.DataFrame({'JE': [],\n",
    "                     'Jx': [],\n",
    "                     'Jy': [],\n",
    "                     'Jz': [],\n",
    "                     'Ex': [],\n",
    "                     'Ey': [],\n",
    "                     'Ez': []}\n",
    "                     )\n",
    "  # J_av = np.zeros(len(times))\n",
    "  # E_av = np.zeros(len(times))\n",
    "  # JE_av = np.zeros(len(times))\n",
    "  # jeE_av = np.zeros(len(times))\n",
    "  # jiE_av = np.zeros(len(times))\n",
    "  # E_m = np.zeros(len(times))\n",
    "\n",
    "  for t in np.arange(0,len(times)):\n",
    "    print(t)\n",
    "    if filt == False:\n",
    "      sp = 'electron'\n",
    "      jxe = load_var('jx', dirs, times[t], sp)\n",
    "      jye = load_var('jy', dirs, times[t], sp)\n",
    "      jze = load_var('jz', dirs, times[t], sp)\n",
    "\n",
    "      sp = 'ion'\n",
    "      jxi = load_var('jx', dirs, times[t], sp)\n",
    "      jyi = load_var('jy', dirs, times[t], sp)\n",
    "      jzi = load_var('jz', dirs, times[t], sp)\n",
    "\n",
    "      jx0 = jxe + jxi\n",
    "      jy0 = jye + jyi \n",
    "      jz0 = jze + jzi\n",
    "\n",
    "      ex = load_var('ex', dirs, times[t])\n",
    "      ey = load_var('ey', dirs, times[t])\n",
    "      ez = load_var('ez', dirs, times[t])\n",
    "\n",
    "      jeE = (jxe * ex) + (jye * ey) + (jze * ez)\n",
    "      jiE = (jxi * ex) + (jyi * ey) + (jzi * ez)\n",
    "      JE  = (jx0 * ex) + (jy0 * ey) + (jz0 * ez)\n",
    "    if filt == True:\n",
    "      el = load_hydro_fil(dirs, times[t], species = 'electron')\n",
    "      ion = load_hydro_fil(dirs, times[t], species = 'ion')\n",
    "      f = load_field_fil(dirs, times[t])\n",
    "\n",
    "      ex = f['ex']\n",
    "      ey = f['ey']\n",
    "      ez = f['ez']\n",
    "\n",
    "      jx0 = el['jx'] + ion['jx']\n",
    "      jy0 = el['jy'] + ion['jy']\n",
    "      jz0 = el['jz'] + ion['jz']\n",
    "      JE  = (jx0 * f['ex']) + (jy0 * f['ey']) + (jz0 * f['ez'])\n",
    "      # plt.pcolormesh(JE)\n",
    "\n",
    "\n",
    "    row = pd.DataFrame(\n",
    "          {'JE': [np.mean(JE ,dtype = np.float64) ],\n",
    "           'Jx': [np.mean(jx0,dtype = np.float64)],\n",
    "           'Jy': [np.mean(jy0,dtype = np.float64)],\n",
    "           'Jz': [np.mean(jz0,dtype = np.float64)],\n",
    "           'Ex': [np.mean(ex ,dtype = np.float64) ],\n",
    "           'Ey': [np.mean(ey ,dtype = np.float64) ],\n",
    "           'Ez': [np.mean(ez ,dtype = np.float64) ]})\n",
    "\n",
    "    ds = pd.concat([ds, row], ignore_index = True)\n",
    "    # Jx_av[t] = np.average(jx0)\n",
    "    # Jy_av[t] = np.average(jy0)\n",
    "    # Jz_av[t] = np.average(jz0)\n",
    "    # Ex_av[t] = np.average(ex)\n",
    "    # Ey_av[t] = np.average(ey)\n",
    "    # Ez_av[t] = np.average(ez)\n",
    "    # JE_av[t]  = np.average(JE)\n",
    "    # jeE_av[t] = np.average(jeE)\n",
    "    # jiE_av[t] = np.average(jiE)\n",
    "  if save == True:\n",
    "    # pd.DataFrame({'JE': JE_av, 'Jx': J_av, 'E': E_av}).to_csv(dirs + 'JE_av.csv', sep = ',')\n",
    "    ds.to_csv(dirs + 'JE_av.csv', sep = ',')\n",
    "  return ds\n",
    "\n",
    "def read_JE(dirs):\n",
    "  ds = pd.read_csv(dirs + 'JE_av.csv', delimiter = ',')\n",
    "  # JE = ds['JE']\n",
    "  return ds"
   ]
  },
  {
   "cell_type": "code",
   "execution_count": null,
   "metadata": {},
   "outputs": [],
   "source": [
    "# Calculate ###\n",
    "ds = JE_calc(dirs, filt = True)\n",
    "\n",
    "# ds = JE_calc(dirs, filt = True)\n",
    "# en = tb.en_calc(dirs)"
   ]
  },
  {
   "cell_type": "code",
   "execution_count": null,
   "metadata": {},
   "outputs": [],
   "source": [
    "# # ## Read ##\n",
    "# ds = tb.read_JE(dirs)\n",
    "# en = tb.read_calc_energies(dirs)/(info['Lx/de'] * info['Ly/de'] * info['Lz/de'])"
   ]
  },
  {
   "cell_type": "code",
   "execution_count": null,
   "metadata": {},
   "outputs": [],
   "source": [
    "# print(ds['JE'][0])"
   ]
  },
  {
   "cell_type": "code",
   "execution_count": null,
   "metadata": {},
   "outputs": [],
   "source": [
    "# print((ds['JE'].dtype))"
   ]
  },
  {
   "cell_type": "code",
   "execution_count": null,
   "metadata": {},
   "outputs": [],
   "source": [
    "n = 20\n",
    "twciN = twci[n:]\n",
    "\n",
    "print(len(twciN))\n",
    "print(twci[n])\n",
    "# JE_int = -sci.integrate.cumulative_trapezoid(ds['JE'][n:] * dt, initial = 0)\n",
    "# JE_int=  -np.cumsum(ds['JE'][n:] * dt)\n",
    "# JE_int_fil = -sci.integrate.cumulative_simpson(ds_fil['JE'][n:] * dt, initial = 0)\n",
    "JE_int = -sci.integrate.cumulative_simpson(ds['JE'][n:] * dt, initial = 0)\n",
    "dE = en['EM'][n:]-en['EM'][n]+en['EE'][n:]-en['EE'][n]\n",
    "\n",
    "nfac = int(len(en_out)/len(en)) * n\n",
    "twciN_out = twci_out[nfac:]\n",
    "dE_out = en_out['EM'][nfac:]-en_out['EM'][nfac]+en_out['EE'][nfac:]-en_out['EE'][nfac]\n",
    "# print(len(JE_int))\n",
    "# print(dt)"
   ]
  },
  {
   "cell_type": "code",
   "execution_count": null,
   "metadata": {},
   "outputs": [],
   "source": [
    "print(JE_int)"
   ]
  },
  {
   "cell_type": "code",
   "execution_count": null,
   "metadata": {},
   "outputs": [],
   "source": [
    "fig, axs = plt.subplots(1,1, figsize=(15, 10), sharex = True, layout='constrained')\n",
    "axs.plot(twciN, JE_int, marker = 'x', \n",
    "         label=r'$-\\int_{'f'{int(np.round(twci[n],0))}'r'}^t \\langle j\\cdot E \\rangle dt$')\n",
    "axs.plot(twciN, dE,marker = 'x', label=r'$\\delta E^m$')\n",
    "# axs.plot(twciN_out, dE_out, label=r'$\\delta E^m$')\n",
    "axs.ticklabel_format(axis = 'y',style = 'sci', scilimits = (0,0))\n",
    "axs.ticklabel_format(axis = 'y',style = 'sci', scilimits = (0,0))\n",
    "axs.ticklabel_format(axis = 'y',style = 'sci', scilimits = (0,0))\n",
    "axs.ticklabel_format(axis = 'y',style = 'sci', scilimits = (0,0))\n",
    "axs.legend(loc = 'upper left', fontsize = 20)\n",
    "axs.xaxis.set_minor_locator(AutoMinorLocator())\n",
    "axs.yaxis.set_minor_locator(AutoMinorLocator())\n",
    "axs.tick_params(which='both', width=2, labelsize = 20, right = True, direction = 'in')\n",
    "axs.tick_params(which='major', length=10, top = True, right =True)\n",
    "axs.tick_params(which='minor', length=5 , top = True, right =True)\n",
    "axs.grid()\n",
    "\n",
    "fig.supylabel(r'$\\delta E \\left[ \\frac{m_e c^2}{d_e^3} \\right] $', size = 25)\n",
    "fig.supxlabel(r'$ t \\omega_{ci} \\left[ \\frac{e B_0}{m_i c} \\right]$', size = 25)\n",
    "\n",
    "plt.savefig(figs + 'JE_dEM.jpg', dpi = 400)"
   ]
  },
  {
   "cell_type": "code",
   "execution_count": null,
   "metadata": {},
   "outputs": [],
   "source": [
    "# # deck = 'KH_Lv1di/'\n",
    "# # deck = 'KH/'\n",
    "# # deck = 'KH_subash/'\n",
    "# # deck = 'KH_new/'\n",
    "# deck = 'KH_400ppc/'\n",
    "# # deck = '/GEM_feb26/'\n",
    "# # deck = 'turb2/'\n",
    "# # deck = 'turb_vth0.01/'\n",
    "# # deck = 'KH_beta0.1/'\n",
    "\n",
    "# dirs = '/pscratch/sd/g/goodwill/' + deck\n",
    "\n",
    "# # figs = '/pscratch/sd/g/goodwill/Fig/' + deck\n",
    "\n",
    "# info4 = tb.get_vpic_info(dirs)\n",
    "# times4 = tb.get_times(dirs)\n",
    "# en_out = tb.read_energies(dirs)\n",
    "\n",
    "# twci_out = np.linspace(0, times[-1] * info['dt*wci'], len(en_out['EM']))\n",
    "# twce4 = np.linspace(0, times4[-1] * info['dt*wce'], len(times4))\n",
    "# twpe4 = np.linspace(0, times4[-1] * info['dt*wpe'], len(times4))\n",
    "# twci4 = np.linspace(0, times4[-1] * info['dt*wci'], len(times4))\n",
    "\n",
    "# lx = info['Lx/di']\n",
    "# ly = info['Ly/di']\n",
    "# nx = int(info['nx'])\n",
    "# ny = int(info['ny'])\n",
    "\n",
    "# ds4 = tb.read_JE(dirs)\n",
    "# en4 = tb.read_calc_energies(dirs)/(info['Lx/de'] * info['Ly/de'] * info['Lz/de'])"
   ]
  },
  {
   "cell_type": "code",
   "execution_count": null,
   "metadata": {
    "tags": []
   },
   "outputs": [],
   "source": [
    "# fig, axs = plt.subplots(1,1, figsize=(15, 10), sharex = True, layout='constrained')\n",
    "# nppc = int(info['nppc'])\n",
    "# axs.plot(twci, -sci.integrate.cumulative_trapezoid(ds['JE'] * dt, initial = 0), marker = 'x', label=r'$-\\int_0^t \\langle j\\cdot E \\rangle dt$'f'({nppc} nppc)')\n",
    "# axs.plot(twci, en['EM']-en['EM'][0]+en['EE']-en['EE'][0],marker = 'x', label=r'$\\delta E^m$'f'({nppc} nppc)')\n",
    "\n",
    "# nppc4 = int(info4['nppc'])\n",
    "# axs.plot(twci4, -sci.integrate.cumulative_trapezoid(ds4['JE'] * dt, initial = 0), marker = 'x', label=r'$-\\int_0^t \\langle j\\cdot E \\rangle dt$'f'({nppc4} nppc)')\n",
    "# axs.plot(twci4, en4['EM']-en4['EM'][0]+en4['EE']-en4['EE'][0],marker = 'x', label=r'$\\delta E^m$'f'({nppc4} nppc)')\n",
    "\n",
    "# axs.ticklabel_format(axis = 'y',style = 'sci', scilimits = (0,0))\n",
    "# axs.ticklabel_format(axis = 'y',style = 'sci', scilimits = (0,0))\n",
    "# axs.ticklabel_format(axis = 'y',style = 'sci', scilimits = (0,0))\n",
    "# axs.ticklabel_format(axis = 'y',style = 'sci', scilimits = (0,0))\n",
    "# axs.legend(loc = 'upper left', fontsize = 20)\n",
    "# axs.xaxis.set_minor_locator(AutoMinorLocator())\n",
    "# axs.yaxis.set_minor_locator(AutoMinorLocator())\n",
    "# axs.tick_params(which='both', width=2, labelsize = 20, right = True, direction = 'in')\n",
    "# axs.tick_params(which='major', length=10, top = True, right =True)\n",
    "# axs.tick_params(which='minor', length=5 , top = True, right =True)\n",
    "# axs.grid()\n",
    "\n",
    "# fig.supylabel(r'$\\delta E \\left[ \\frac{m_e c^2}{d_e^3} \\right] $', size = 25)\n",
    "# fig.supxlabel(r'$ t \\omega_{ci} \\left[ \\frac{e B_0}{m_i c} \\right]$', size = 25)\n",
    "\n",
    "# # plt.savefig(figs + 'JE_dEM.jpg', dpi = 400)"
   ]
  }
 ],
 "metadata": {
  "kernelspec": {
   "display_name": "goodwill-jupyter",
   "language": "python",
   "name": "goodwill-jupyter"
  },
  "language_info": {
   "codemirror_mode": {
    "name": "ipython",
    "version": 3
   },
   "file_extension": ".py",
   "mimetype": "text/x-python",
   "name": "python",
   "nbconvert_exporter": "python",
   "pygments_lexer": "ipython3",
   "version": "3.9.19"
  }
 },
 "nbformat": 4,
 "nbformat_minor": 4
}
