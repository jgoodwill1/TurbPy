{
 "cells": [
  {
   "cell_type": "code",
   "execution_count": 1,
   "metadata": {},
   "outputs": [],
   "source": [
    "import TurbPy as tb\n",
    "from TurbPy.imports import *"
   ]
  },
  {
   "cell_type": "code",
   "execution_count": null,
   "metadata": {},
   "outputs": [],
   "source": [
    "# deck = 'KH_Lv1di/'\n",
    "# deck = 'turb2/'\n",
    "# deck = 'turb_vth0.01/'\n",
    "# deck = 'KH_test/'\n",
    "# deck = 'KH_beta0.1/'\n",
    "# deck = 'KH_subash/'\n",
    "# deck = 'KH_new/'\n",
    "# deck = 'KH_800ppc/'\n",
    "# deck = 'KH_400ppc_200wci2/'\n",
    "deck = 'KH_200ppc_200wci/'\n",
    "\n",
    "dirs = '/pscratch/sd/g/goodwill/' + deck\n",
    "\n",
    "figs = '/pscratch/sd/g/goodwill/Fig/' + deck\n",
    "\n",
    "info = tb.get_vpic_info(dirs)\n",
    "times = tb.get_times(dirs)\n",
    "en_out = tb.read_energies(dirs)/(info['Lx/de'] * info['Ly/de'] * info['Lz/de'])\n",
    "\n",
    "twci_out = np.linspace(0, times[-1] * info['dt*wci'], len(en_out['EM']))\n",
    "twci = np.linspace(0, times[-1] * info['dt*wci'], len(times))\n",
    "\n",
    "twce_out = np.linspace(0, times[-1] * info['dt*wce'], len(en_out['EM']))\n",
    "twce = np.linspace(0, times[-1] * info['dt*wce'], len(times))"
   ]
  },
  {
   "cell_type": "code",
   "execution_count": null,
   "metadata": {},
   "outputs": [],
   "source": [
    "pd.read_csv(dirs + 'ps_av')"
   ]
  }
 ],
 "metadata": {
  "kernelspec": {
   "display_name": "goodwill",
   "language": "python",
   "name": "python3"
  },
  "language_info": {
   "codemirror_mode": {
    "name": "ipython",
    "version": 3
   },
   "file_extension": ".py",
   "mimetype": "text/x-python",
   "name": "python",
   "nbconvert_exporter": "python",
   "pygments_lexer": "ipython3",
   "version": "3.9.19"
  }
 },
 "nbformat": 4,
 "nbformat_minor": 2
}
