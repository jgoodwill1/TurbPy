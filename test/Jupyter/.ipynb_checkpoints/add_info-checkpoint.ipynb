{
 "cells": [
  {
   "cell_type": "code",
   "execution_count": 1,
   "metadata": {},
   "outputs": [],
   "source": [
    "import TurbPy as tb\n",
    "from TurbPy.imports import *"
   ]
  },
  {
   "cell_type": "code",
   "execution_count": 15,
   "metadata": {},
   "outputs": [],
   "source": [
    "# deck = 'KH_Lv1di/'\n",
    "# deck = 'KH_beta0.1/'\n",
    "deck = 'turb2/'\n",
    "\n",
    "dirs = '/pscratch/sd/g/goodwill/' + deck\n",
    "\n",
    "figs = '/pscratch/sd/g/goodwill/Fig/' + deck\n",
    "\n",
    "info = tb.get_vpic_info(dirs)\n",
    "times = tb.get_times(dirs)\n",
    "en_out = tb.read_energies(dirs)\n",
    "\n",
    "twci_out = np.linspace(0, times[-1] * info['dt*wci'], len(en_out['EM']))\n",
    "twce = np.linspace(0, times[-1] * info['dt*wce'], len(times))\n",
    "twci = np.linspace(0, times[-1] * info['dt*wci'], len(times))\n",
    "\n",
    "lx = info['Lx/di']\n",
    "ly = info['Ly/di']\n",
    "nx = int(info['nx'])\n",
    "ny = int(info['ny'])"
   ]
  },
  {
   "cell_type": "code",
   "execution_count": 18,
   "metadata": {},
   "outputs": [
    {
     "name": "stdout",
     "output_type": "stream",
     "text": [
      "[ 0.          0.12265787  0.24531575  0.36797362  0.49063149  0.61328936\n",
      "  0.73594724  0.85860511  0.98126298  1.10392085  1.22657873  1.3492366\n",
      "  1.47189447  1.59455235  1.71721022  1.83986809  1.96252596  2.08518384\n",
      "  2.20784171  2.33049958  2.45315745  2.57581533  2.6984732   2.82113107\n",
      "  2.94378895  3.06644682  3.18910469  3.31176256  3.43442044  3.55707831\n",
      "  3.67973618  3.80239405  3.92505193  4.0477098   4.17036767  4.29302555\n",
      "  4.41568342  4.53834129  4.66099916  4.78365704  4.90631491  5.02897278\n",
      "  5.15163065  5.27428853  5.3969464   5.51960427  5.64226215  5.76492002\n",
      "  5.88757789  6.01023576  6.13289364  6.25555151  6.37820938  6.50086725\n",
      "  6.62352513  6.746183    6.86884087  6.99149875  7.11415662  7.23681449\n",
      "  7.35947236  7.48213024  7.60478811  7.72744598  7.85010385  7.97276173\n",
      "  8.0954196   8.21807747  8.34073535  8.46339322  8.58605109  8.70870896\n",
      "  8.83136684  8.95402471  9.07668258  9.19934045  9.32199833  9.4446562\n",
      "  9.56731407  9.68997195  9.81262982  9.93528769 10.05794556 10.18060344\n",
      " 10.30326131 10.42591918 10.54857705 10.67123493 10.7938928  10.91655067\n",
      " 11.03920855 11.16186642 11.28452429 11.40718216 11.52984004 11.65249791\n",
      " 11.77515578 11.89781365 12.02047153]\n"
     ]
    }
   ],
   "source": [
    "print(twce/407)"
   ]
  },
  {
   "cell_type": "code",
   "execution_count": 14,
   "metadata": {},
   "outputs": [
    {
     "name": "stdout",
     "output_type": "stream",
     "text": [
      "407.4366543152521\n"
     ]
    }
   ],
   "source": [
    "tnl = 1/(2 * np.pi/info['Lx/de'] * info['v_A (based on nb)'])\n",
    "print(tnl)"
   ]
  }
 ],
 "metadata": {
  "kernelspec": {
   "display_name": "goodwill",
   "language": "python",
   "name": "python3"
  },
  "language_info": {
   "codemirror_mode": {
    "name": "ipython",
    "version": 3
   },
   "file_extension": ".py",
   "mimetype": "text/x-python",
   "name": "python",
   "nbconvert_exporter": "python",
   "pygments_lexer": "ipython3",
   "version": "3.9.16"
  }
 },
 "nbformat": 4,
 "nbformat_minor": 2
}
