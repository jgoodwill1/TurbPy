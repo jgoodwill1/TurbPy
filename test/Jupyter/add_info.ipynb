{
 "cells": [
  {
   "cell_type": "code",
   "execution_count": 182,
   "metadata": {
    "tags": []
   },
   "outputs": [],
   "source": [
    "import TurbPy as tb\n",
    "from TurbPy.imports import *"
   ]
  },
  {
   "cell_type": "code",
   "execution_count": 183,
   "metadata": {
    "tags": []
   },
   "outputs": [],
   "source": [
    "# deck = 'KH_Lv1di/'\n",
    "# deck = 'KH_beta0.1/'\n",
    "deck = 'KH_200ppc_200wci/'\n",
    "\n",
    "dirs = '/pscratch/sd/g/goodwill/' + deck\n",
    "\n",
    "figs = '/pscratch/sd/g/goodwill/Fig/' + deck\n",
    "\n",
    "info = tb.get_vpic_info(dirs)\n",
    "times = tb.get_times(dirs)\n",
    "en_out = tb.read_energies(dirs)\n",
    "\n",
    "twci_out = np.linspace(0, times[-1] * info['dt*wci'], len(en_out['EM']))\n",
    "twce = np.linspace(0, times[-1] * info['dt*wce'], len(times))\n",
    "twci = np.linspace(0, times[-1] * info['dt*wci'], len(times))\n",
    "\n",
    "lx = info['Lx/di']\n",
    "ly = info['Ly/di']\n",
    "nx = int(info['nx'])\n",
    "ny = int(info['ny'])"
   ]
  },
  {
   "cell_type": "code",
   "execution_count": 184,
   "metadata": {
    "tags": []
   },
   "outputs": [
    {
     "name": "stdout",
     "output_type": "stream",
     "text": [
      "[0.00000000e+00 3.39328747e-02 6.78657494e-02 ... 3.80726854e+01\n",
      " 3.81066183e+01 3.81405512e+01]\n"
     ]
    }
   ],
   "source": [
    "print(twce/407)"
   ]
  },
  {
   "cell_type": "code",
   "execution_count": 185,
   "metadata": {},
   "outputs": [
    {
     "name": "stdout",
     "output_type": "stream",
     "text": [
      "5010.451802459932\n"
     ]
    }
   ],
   "source": [
    "tnl = info['Lx/di'] / info['v_A* (based on nb)']\n",
    "print(tnl)"
   ]
  },
  {
   "cell_type": "code",
   "execution_count": 186,
   "metadata": {
    "tags": []
   },
   "outputs": [
    {
     "name": "stdout",
     "output_type": "stream",
     "text": [
      "7974.381714851948\n"
     ]
    }
   ],
   "source": [
    "tnl = 1/(2 * np.pi/info['Lx/de'] * info['v_A* (based on nb)'])\n",
    "print(tnl)"
   ]
  },
  {
   "cell_type": "code",
   "execution_count": 187,
   "metadata": {
    "tags": []
   },
   "outputs": [
    {
     "name": "stdout",
     "output_type": "stream",
     "text": [
      "155.23204320000002\n"
     ]
    }
   ],
   "source": [
    "print(info['dt*wci'] * 562000)"
   ]
  },
  {
   "cell_type": "code",
   "execution_count": 188,
   "metadata": {
    "tags": []
   },
   "outputs": [
    {
     "name": "stdout",
     "output_type": "stream",
     "text": [
      "31046.40864\n"
     ]
    }
   ],
   "source": [
    "print(info['dt*wpe'] * 562000)"
   ]
  },
  {
   "cell_type": "code",
   "execution_count": 189,
   "metadata": {
    "tags": []
   },
   "outputs": [
    {
     "name": "stdout",
     "output_type": "stream",
     "text": [
      "3.893268437624121\n"
     ]
    }
   ],
   "source": [
    "print(info['dt*wpe'] * 562000/ tnl)"
   ]
  },
  {
   "cell_type": "code",
   "execution_count": 190,
   "metadata": {},
   "outputs": [],
   "source": [
    "ds = tb.load_vars(dirs, times[0], species = 'electron')\n",
    "\n",
    "U0 = info['U0']\n",
    "ux = ds['jx']/ds['rho']\n",
    "uy = ds['jy']/ds['rho']\n",
    "uz = ds['jz']/ds['rho']\n",
    "dux = ux - np.average(ux)\n",
    "duy = uy - np.average(uy)\n",
    "duz = uz - np.average(uz)\n",
    "\n",
    "u_rms = np.sqrt(np.mean(dux**2 + duy**2 + duz**2))"
   ]
  },
  {
   "cell_type": "code",
   "execution_count": 191,
   "metadata": {},
   "outputs": [
    {
     "name": "stdout",
     "output_type": "stream",
     "text": [
      "0.023910807\n",
      "0.02494785\n"
     ]
    }
   ],
   "source": [
    "print(u_rms)\n",
    "print(U0)"
   ]
  },
  {
   "cell_type": "code",
   "execution_count": 192,
   "metadata": {},
   "outputs": [],
   "source": [
    "tnl = info['Lx/di']/u_rms\n",
    "# tnl = info['Lx/di']/U0"
   ]
  },
  {
   "cell_type": "code",
   "execution_count": 193,
   "metadata": {},
   "outputs": [
    {
     "name": "stdout",
     "output_type": "stream",
     "text": [
      "522.7761558623783\n"
     ]
    }
   ],
   "source": [
    "print(tnl)"
   ]
  },
  {
   "cell_type": "code",
   "execution_count": 194,
   "metadata": {},
   "outputs": [],
   "source": [
    "tnl = tnl/20"
   ]
  },
  {
   "cell_type": "code",
   "execution_count": 195,
   "metadata": {},
   "outputs": [
    {
     "name": "stdout",
     "output_type": "stream",
     "text": [
      "26.138807793118918\n"
     ]
    }
   ],
   "source": [
    "print(tnl)"
   ]
  },
  {
   "cell_type": "code",
   "execution_count": 196,
   "metadata": {},
   "outputs": [
    {
     "name": "stdout",
     "output_type": "stream",
     "text": [
      "155.23204320000002\n"
     ]
    }
   ],
   "source": [
    "tot = info['fields_interval'] * 1124 * info['dt*wci']\n",
    "print(tot)"
   ]
  },
  {
   "cell_type": "code",
   "execution_count": 197,
   "metadata": {},
   "outputs": [
    {
     "name": "stdout",
     "output_type": "stream",
     "text": [
      "5.938757590958877\n"
     ]
    }
   ],
   "source": [
    "print(tot/tnl)"
   ]
  },
  {
   "cell_type": "code",
   "execution_count": null,
   "metadata": {},
   "outputs": [],
   "source": []
  }
 ],
 "metadata": {
  "kernelspec": {
   "display_name": "Python 3",
   "language": "python",
   "name": "python3"
  },
  "language_info": {
   "codemirror_mode": {
    "name": "ipython",
    "version": 3
   },
   "file_extension": ".py",
   "mimetype": "text/x-python",
   "name": "python",
   "nbconvert_exporter": "python",
   "pygments_lexer": "ipython3",
   "version": "3.10.14"
  }
 },
 "nbformat": 4,
 "nbformat_minor": 4
}
