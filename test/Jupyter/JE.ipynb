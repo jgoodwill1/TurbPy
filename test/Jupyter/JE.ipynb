{
 "cells": [
  {
   "cell_type": "code",
   "execution_count": 1,
   "metadata": {},
   "outputs": [],
   "source": [
    "import TurbPy as tb\n",
    "from TurbPy.imports import *"
   ]
  },
  {
   "cell_type": "code",
   "execution_count": 2,
   "metadata": {},
   "outputs": [],
   "source": [
    "# deck = 'KH_Lv1di/'\n",
    "# deck = 'turb2/'\n",
    "# deck = 'turb_vth0.01/'\n",
    "# deck = 'KH_test/'\n",
    "# deck = 'KH_beta0.1/'\n",
    "# deck = 'KH_subash/'\n",
    "# deck = 'KH_new/'\n",
    "# deck = 'KH_800ppc/'\n",
    "# deck = 'KH_400ppc_200wci2/'\n",
    "deck = 'KH_200ppc_200wci/'\n",
    "\n",
    "\n",
    "dirs = '/pscratch/sd/g/goodwill/' + deck\n",
    "\n",
    "figs = '/pscratch/sd/g/goodwill/Fig/' + deck\n",
    "\n",
    "info = tb.get_vpic_info(dirs)\n",
    "times = tb.get_times(dirs)\n",
    "en_out = tb.read_energies(dirs)/(info['Lx/de'] * info['Ly/de'] * info['Lz/de'])\n",
    "\n",
    "twci_out = np.linspace(0, times[-1] * info['dt*wci'], len(en_out['EM']))\n",
    "twci = np.linspace(0, times[-1] * info['dt*wci'], len(times))\n",
    "\n",
    "twce_out = np.linspace(0, times[-1] * info['dt*wce'], len(en_out['EM']))\n",
    "twce = np.linspace(0, times[-1] * info['dt*wce'], len(times))\n",
    "\n",
    "lx = np.linspace(0, info['Lx/di'], int(info['nx']))\n",
    "ly = np.linspace(0, info['Ly/di'], int(info['ny']))\n",
    "\n",
    "cut = info['Lx/di']/100\n",
    "lxc = np.linspace(cut, info['Lx/di'] - cut, int(1080))\n",
    "# lyc = np.linspace(, info['Lx/di'] - cut, int(1))"
   ]
  },
  {
   "cell_type": "code",
   "execution_count": 11,
   "metadata": {},
   "outputs": [
    {
     "name": "stdout",
     "output_type": "stream",
     "text": [
      "96.67476000000002\n",
      "-2.8749115196908524e-07 2.223525900569202e-07\n"
     ]
    }
   ],
   "source": [
    "t = 700\n",
    "print(twci[t])\n",
    "JiE, JeE, JE = tb.JE_calc(dirs, times[t])\n",
    "\n",
    "print(np.average(JiE), np.average(JeE))"
   ]
  },
  {
   "cell_type": "code",
   "execution_count": 4,
   "metadata": {},
   "outputs": [],
   "source": [
    "JEfilM = np.where((JE < 0))\n",
    "JEfilP = np.where((JE > 0))"
   ]
  },
  {
   "cell_type": "code",
   "execution_count": 5,
   "metadata": {},
   "outputs": [],
   "source": [
    "JEM = np.abs(np.average(JE[JEfilM]))\n",
    "JEP = np.average(JE[JEfilP])"
   ]
  },
  {
   "cell_type": "code",
   "execution_count": 6,
   "metadata": {},
   "outputs": [
    {
     "name": "stdout",
     "output_type": "stream",
     "text": [
      "5.280360437703098e-07\n"
     ]
    }
   ],
   "source": [
    "print(JEP - JEM)"
   ]
  },
  {
   "cell_type": "code",
   "execution_count": 7,
   "metadata": {},
   "outputs": [
    {
     "name": "stdout",
     "output_type": "stream",
     "text": [
      "-1.306684102660427e-08\n"
     ]
    }
   ],
   "source": [
    "print(-np.average(JE))"
   ]
  },
  {
   "cell_type": "code",
   "execution_count": null,
   "metadata": {},
   "outputs": [],
   "source": []
  }
 ],
 "metadata": {
  "kernelspec": {
   "display_name": "goodwill",
   "language": "python",
   "name": "python3"
  },
  "language_info": {
   "codemirror_mode": {
    "name": "ipython",
    "version": 3
   },
   "file_extension": ".py",
   "mimetype": "text/x-python",
   "name": "python",
   "nbconvert_exporter": "python",
   "pygments_lexer": "ipython3",
   "version": "3.9.19"
  }
 },
 "nbformat": 4,
 "nbformat_minor": 2
}
